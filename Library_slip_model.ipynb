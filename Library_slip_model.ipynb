{
  "nbformat": 4,
  "nbformat_minor": 0,
  "metadata": {
    "colab": {
      "provenance": [],
      "authorship_tag": "ABX9TyPAaUmAdu3keijxh/ctAzF7",
      "include_colab_link": true
    },
    "kernelspec": {
      "name": "python3",
      "display_name": "Python 3"
    },
    "language_info": {
      "name": "python"
    }
  },
  "cells": [
    {
      "cell_type": "markdown",
      "metadata": {
        "id": "view-in-github",
        "colab_type": "text"
      },
      "source": [
        "<a href=\"https://colab.research.google.com/github/shrisha337-beep/Library-Slip-Tracker/blob/main/Library_slip_model.ipynb\" target=\"_parent\"><img src=\"https://colab.research.google.com/assets/colab-badge.svg\" alt=\"Open In Colab\"/></a>"
      ]
    },
    {
      "cell_type": "markdown",
      "source": [
        "Step 1: Import Libraries"
      ],
      "metadata": {
        "id": "pYvgtarZ9-2z"
      }
    },
    {
      "cell_type": "code",
      "source": [
        "import numpy as np\n",
        "import pandas as pd\n",
        "from datetime import timedelta, datetime\n",
        "import random\n",
        "from sklearn.model_selection import train_test_split\n",
        "from sklearn.ensemble import RandomForestRegressor\n",
        "from sklearn.metrics import mean_squared_error, mean_absolute_error, r2_score\n",
        "\n"
      ],
      "metadata": {
        "id": "s3cu7aO4-EXW"
      },
      "execution_count": 4,
      "outputs": []
    },
    {
      "cell_type": "markdown",
      "source": [
        "Step 2: Generate Synthetic Dataset"
      ],
      "metadata": {
        "id": "Wj_Uz4wqp6wz"
      }
    },
    {
      "cell_type": "code",
      "source": [
        "import pandas as pd\n",
        "import numpy as np\n",
        "import random\n",
        "from datetime import timedelta, datetime\n",
        "\n",
        "#Setup\n",
        "np.random.seed(42)\n",
        "student_names = ['Raghav Singh','Rahul Sharma','Anjali Khanna','Khushi Mukhija','Shreeja Chaturvedi','Megha Jain','Kunal Mehta','Ananya Shroff','Karan Ahuja','Sneha Kapoor',\n",
        "                 'Rohit Kashyap','Megha Jain','Vivek Agrawal','Isha Khanna','Aman Verma','Priya Desai','Shreya Sharma']\n",
        "book_titles = ['Introduction to ML','Python Basics','Data Science with Python','Modern Web-Dev','Operating Systems','Linear Algebra','Digital Circutis',\n",
        "                'Database Systems','Advanced Machine Learning','Artificial Intelligence','Electronic Circuits']\n",
        "genres = ['CS','Math','Electronics','AI','Web Dev']\n",
        "librarians = ['Mrs. Batra','Mr. Khurana','Ms. Sheikh','Mrs. Kapoor','Mr. Ahuja']\n",
        "\n",
        "#Settings\n",
        "n = 500\n",
        "fine_per_day = 1\n",
        "start_date = datetime(2025,1,1)\n",
        "\n",
        "#17 offsets from -2 to 14\n",
        "return_offsets = list(range(-2,15))\n",
        "#17 probabilities matching above\n",
        "probabilities = np.array([0.03, 0.03, 0.06, 0.06, 0.06, 0.06, 0.06,\n",
        "                          0.05, 0.05, 0.05, 0.05, 0.05, 0.05, 0.05,\n",
        "                          0.05, 0.05, 0.05])\n",
        "#Normalize to sum to 1.0\n",
        "probabilities = probabilities/probabilities.sum()\n",
        "\n",
        "#Generate Data\n",
        "data = []\n",
        "for i in range(n):\n",
        "    slip_id = f\"SLIP{i+1:05d}\"\n",
        "    student = random.choice(student_names)\n",
        "    book = random.choice(book_titles)\n",
        "    genre = random.choice(genres)\n",
        "    librarian = random.choice(librarians)\n",
        "\n",
        "    issue_date = start_date + timedelta(days=random.randint(0,365))\n",
        "    due_date = issue_date + timedelta(days=14) # Due date should be relative to issue date\n",
        "    return_offset = random.choices(return_offsets, weights=probabilities, k=1)[0]\n",
        "    return_date = issue_date + timedelta(days=int(return_offset))\n",
        "\n",
        "    delay_days = max(0,(return_date - due_date).days)\n",
        "    fine_amount = delay_days * fine_per_day\n",
        "\n",
        "    data.append([slip_id, student, book, genre, librarian, issue_date, due_date, return_date, delay_days, fine_amount])\n",
        "\n",
        "# Create and Save Dataframe\n",
        "columns = ['Slip_Id','Student_Name','Book_Title','Genre','Librarian_Name','Issue_Date','Due_Date','Return_Date','Delay_Days','Fine']\n",
        "df = pd.DataFrame(data,columns=columns)\n",
        "df.to_csv('library_slip_tracker.csv',index=False)\n",
        "print(\"Synthetic dataset generated and saved as 'library_slip_tracker.csv'\")\n",
        "\n",
        "#Display first 10 rows\n",
        "print(df.head(499))\n",
        "df = pd.read_csv('library_slip_tracker.csv')\n",
        "df.to_excel('library_slip_tracker.xlsx',index=False)"
      ],
      "metadata": {
        "id": "9g6LW0VrqE8o",
        "colab": {
          "base_uri": "https://localhost:8080/"
        },
        "outputId": "10abe623-2b01-4518-cbe4-6ad4ba6e738d"
      },
      "execution_count": 5,
      "outputs": [
        {
          "output_type": "stream",
          "name": "stdout",
          "text": [
            "Synthetic dataset generated and saved as 'library_slip_tracker.csv'\n",
            "       Slip_Id        Student_Name                 Book_Title        Genre  \\\n",
            "0    SLIP00001       Shreya Sharma  Advanced Machine Learning           AI   \n",
            "1    SLIP00002         Isha Khanna          Operating Systems      Web Dev   \n",
            "2    SLIP00003       Rohit Kashyap    Artificial Intelligence         Math   \n",
            "3    SLIP00004         Isha Khanna  Advanced Machine Learning           CS   \n",
            "4    SLIP00005         Priya Desai          Operating Systems  Electronics   \n",
            "..         ...                 ...                        ...          ...   \n",
            "494  SLIP00495          Megha Jain             Modern Web-Dev           CS   \n",
            "495  SLIP00496  Shreeja Chaturvedi              Python Basics           AI   \n",
            "496  SLIP00497      Khushi Mukhija           Database Systems      Web Dev   \n",
            "497  SLIP00498        Raghav Singh        Electronic Circuits         Math   \n",
            "498  SLIP00499          Megha Jain    Artificial Intelligence           CS   \n",
            "\n",
            "    Librarian_Name Issue_Date   Due_Date Return_Date  Delay_Days  Fine  \n",
            "0      Mrs. Kapoor 2025-09-16 2025-09-30  2025-09-30           0     0  \n",
            "1       Mrs. Batra 2025-07-29 2025-08-12  2025-08-12           0     0  \n",
            "2      Mrs. Kapoor 2025-12-29 2026-01-12  2026-01-06           0     0  \n",
            "3       Mrs. Batra 2025-05-23 2025-06-06  2025-05-25           0     0  \n",
            "4       Mrs. Batra 2025-11-05 2025-11-19  2025-11-11           0     0  \n",
            "..             ...        ...        ...         ...         ...   ...  \n",
            "494     Mrs. Batra 2025-04-13 2025-04-27  2025-04-17           0     0  \n",
            "495    Mrs. Kapoor 2025-06-26 2025-07-10  2025-07-07           0     0  \n",
            "496      Mr. Ahuja 2025-12-28 2026-01-11  2026-01-09           0     0  \n",
            "497     Ms. Sheikh 2025-08-28 2025-09-11  2025-08-31           0     0  \n",
            "498     Mrs. Batra 2025-08-13 2025-08-27  2025-08-18           0     0  \n",
            "\n",
            "[499 rows x 10 columns]\n"
          ]
        }
      ]
    },
    {
      "cell_type": "markdown",
      "source": [
        "Step 3: Regression Model Training"
      ],
      "metadata": {
        "id": "iOG03ZDLZ9Zv"
      }
    },
    {
      "cell_type": "code",
      "source": [
        "# Extract DayofWeek from 'Issue_Date'\n",
        "df['Issue_Date'] = pd.to_datetime(df['Issue_Date'])\n",
        "df['DayofWeek'] = df['Issue_Date'].dt.dayofweek\n",
        "\n",
        "# Add a placeholder for 'TotalStudents' - you might want to replace this with a more meaningful feature\n",
        "df['TotalStudents'] = 500 # Placeholder value\n",
        "\n",
        "X = df[[\"DayofWeek\",\"TotalStudents\"]]\n",
        "Y = df[\"Fine\"]\n",
        "\n",
        "X_train, X_test, Y_train, Y_test = train_test_split(X,Y,test_size=0.2,random_state=42)\n",
        "\n",
        "model=RandomForestRegressor(n_estimators=100,random_state=42)\n",
        "model.fit(X_train,Y_train)\n",
        "y_pred=model.predict(X_test)\n",
        "\n",
        "future_data = pd.DataFrame({\n",
        "    \"DayofWeek\": [0],  # Monday\n",
        "    \"TotalStudents\": [1]\n",
        "})\n",
        "predicted_fine = model.predict(future_data)\n",
        "print(f\"Predicted fine for 1 students on Monday: ₹{predicted_fine[0]:.2f}\")"
      ],
      "metadata": {
        "id": "67Dmpn5HaCb2",
        "colab": {
          "base_uri": "https://localhost:8080/"
        },
        "outputId": "9261a9e5-3dfc-442f-e915-eb8fd375752e"
      },
      "execution_count": 6,
      "outputs": [
        {
          "output_type": "stream",
          "name": "stdout",
          "text": [
            "Predicted fine for 1 students on Monday: ₹0.00\n"
          ]
        }
      ]
    },
    {
      "cell_type": "markdown",
      "source": [
        "Step 4: Evaluation"
      ],
      "metadata": {
        "id": "W6yTVLZTeg2j"
      }
    },
    {
      "cell_type": "code",
      "source": [
        "mae = mean_absolute_error(Y_test,y_pred)\n",
        "mse = mean_squared_error(Y_test,y_pred)\n",
        "rmse = np.sqrt(mse)\n",
        "r2 = r2_score(Y_test,y_pred)\n",
        "\n",
        "print(f\"Mean Absolute Error: ₹{mae: .2f}\")\n",
        "print(f\"Mean Squared Error: ₹{mse: .2f}\")\n",
        "print(f\"Root Mean Squared Error: ₹{rmse: .2f}\")\n",
        "print(f\"R-squared: {r2: .2f}\")\n"
      ],
      "metadata": {
        "id": "BLNYTGPfen-F",
        "colab": {
          "base_uri": "https://localhost:8080/"
        },
        "outputId": "70ae9ae5-2898-4140-bfc7-1ca63517ce8c"
      },
      "execution_count": 7,
      "outputs": [
        {
          "output_type": "stream",
          "name": "stdout",
          "text": [
            "Mean Absolute Error: ₹ 0.00\n",
            "Mean Squared Error: ₹ 0.00\n",
            "Root Mean Squared Error: ₹ 0.00\n",
            "R-squared:  1.00\n"
          ]
        }
      ]
    },
    {
      "cell_type": "markdown",
      "source": [
        "Step 5: Future Fine Details"
      ],
      "metadata": {
        "id": "bzImSnNKhHkK"
      }
    },
    {
      "cell_type": "code",
      "source": [
        "import pandas as pd\n",
        "\n",
        "# The prediction code has been moved to the previous cell (id: 67Dmpn5HaCb2) where the model is defined and trained.\n",
        "# You can now run that cell to see the prediction for future_data."
      ],
      "metadata": {
        "id": "SOCJ2tZbhLye"
      },
      "execution_count": 8,
      "outputs": []
    }
  ]
}